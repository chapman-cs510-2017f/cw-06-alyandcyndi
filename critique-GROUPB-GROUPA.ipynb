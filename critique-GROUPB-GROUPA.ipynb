{
 "cells": [
  {
   "cell_type": "markdown",
   "metadata": {
    "collapsed": false
   },
   "source": [
    "Name: Kynan Barton, Seong Lee Email: barto129@mail.chapman.edu, seolee@chapman.edu Course: cs510 Fall 2017 Assignment: Classwork 6 Group B: Aly and Cyndi"
   ]
  },
  {
   "cell_type": "markdown",
   "metadata": {
    "collapsed": false
   },
   "source": [
    "## Critique of AlyandCyndi's Classwork 5"
   ]
  },
  {
   "cell_type": "markdown",
   "metadata": {
    "collapsed": false
   },
   "source": [
    "### Is it clear how the code is organized?\n",
    "\n",
    "The entirety of their code is organized concisely."
   ]
  },
  {
   "cell_type": "markdown",
   "metadata": {
    "collapsed": false
   },
   "source": [
    "### Is the code properly documented with both docstrings and supplementary comments according to industry standards?\n",
    "\n",
    "Their implemenation of industry standard docstrings and supplementary comments helped us understand and break down their thought processes."
   ]
  },
  {
   "cell_type": "markdown",
   "metadata": {
    "collapsed": false
   },
   "source": [
    "### Can you follow the algorithm of the code, i.e., what it is doing, and how? \n",
    "\n",
    "The function create_plane() is a little complicated to understand. The code creates a complex plane as a list of lists of a list. Each complex number is contained in an individual list. The structure of complex plane may need to be fixed to a list of lists [[ ], [ ]].\n",
    "\n",
    "The function apply() does not work. For example, when a comlex number is multiplied by 2, it adds another complex number to the list where a complex number is contained, instead of transofrming each complex number. Complex numbers are not transformed as defined in the function.\n",
    "\n",
    "We suggest re-writing the create_plane function. And when using for-loop on each complex number, we suggest checking if the defined function is correctly applied."
   ]
  }
 ],
 "metadata": {
  "kernelspec": {
   "display_name": "Python 3 (Anaconda)",
   "language": "python",
   "name": "anaconda3"
  },
  "language_info": {
   "codemirror_mode": {
    "name": "ipython",
    "version": 3
   },
   "file_extension": ".py",
   "mimetype": "text/x-python",
   "name": "python",
   "nbconvert_exporter": "python",
   "pygments_lexer": "ipython3",
   "version": "3.5.4"
  }
 },
 "nbformat": 4,
 "nbformat_minor": 0
}