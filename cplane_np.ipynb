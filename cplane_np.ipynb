{
 "cells": [
  {
   "cell_type": "markdown",
   "metadata": {
    "collapsed": false
   },
   "source": [
    "Name: Aly Baughman, Cynthia Parks\n",
    "\n",
    "Student ID: 1923165, 2303535\n",
    "\n",
    "Email: baugh107@mail.chapman.edu, cparks@chapman.edu\n",
    "\n",
    "Course: CS510 Fall 2017\n",
    "\n",
    "Assignment: Classwork 6"
   ]
  },
  {
   "cell_type": "markdown",
   "metadata": {
    "collapsed": false
   },
   "source": [
    "### Implementation vs. Previous Implementation\n",
    "\n",
    "The previous implementation is vastly different than the implementation once vanilla python lists were introduced."
   ]
  },
  {
   "cell_type": "code",
   "execution_count": 1,
   "metadata": {
    "collapsed": false
   },
   "outputs": [
   ],
   "source": [
    "import cplane_np\n",
    "import pandas as pd\n",
    "import numpy as np\n",
    "from abscplane import AbsComplexPlane"
   ]
  },
  {
   "cell_type": "markdown",
   "metadata": {
    "collapsed": false
   },
   "source": [
    "### Creating a Plane of Complex Points\n",
    "This function creates a list of lists that contains the points for the complex plane.  It does so by starting at the minimum point, and moves towards the maximum point in equal intervals based on the xlen and ylen values."
   ]
  },
  {
   "cell_type": "markdown",
   "metadata": {
    "collapsed": false
   },
   "source": [
    "``` python\n",
    "def __create_plane(self, xmin, xmax, xlen, ymin, ymax, ylen):\n",
    "        xp = np.linspace(self.xmin, self.xmax, self.xlen)\n",
    "        yp = np.linspace(self.ymin, self.ymax, self.ylen)\n",
    "        \n",
    "        #returns coordinate matrices from coordinate vectors\n",
    "        x,y = np.meshgrid(xp,yp)\n",
    "        \n",
    "        #creates complex plane using vectors from meshgrid\n",
    "        self.plane = x + y*1j\n",
    "        \n",
    "        print(self.plane)\n",
    "        \n",
    "        return self.plane\n",
    "```"
   ]
  },
  {
   "cell_type": "markdown",
   "metadata": {
    "collapsed": false
   },
   "source": [
    "### Creating the Apply Function\n",
    "\n",
    "The apply functions adds a function f to the attribute fs. Then it applies that function to every point in the plane."
   ]
  },
  {
   "cell_type": "markdown",
   "metadata": {
    "collapsed": false
   },
   "source": [
    "``` python\n",
    "def apply(self, f):\n",
    "    \n",
    "        #adds f to fs\n",
    "        self.fs.append(f)\n",
    "        \n",
    "        self.plane = f(self.plane)\n",
    "        return self.plane\n",
    "```"
   ]
  },
  {
   "cell_type": "markdown",
   "metadata": {
    "collapsed": false
   },
   "source": [
    "### Creating the Refresh Function\n",
    "The refresh function regenerates the complex plane and replaces all the attribute values. It also removes any functions stored in the attribute fs."
   ]
  },
  {
   "cell_type": "markdown",
   "metadata": {
    "collapsed": false
   },
   "source": [
    "``` python\n",
    "def refresh(self):\n",
    "    \n",
    "        self.plane = self.__create_plane(self, xmin, xmax, xlen, ymin, ymax, ylen)\n",
    "        self.fs = []\n",
    "```"
   ]
  },
  {
   "cell_type": "markdown",
   "metadata": {
    "collapsed": false
   },
   "source": [
    "### Creating the Zoom Function\n",
    "The zoom function resets the x and y attributes and recreates the plane with new x and y values. Then it goes through all the transformations in fs and applies them in order to the new values."
   ]
  },
  {
   "cell_type": "markdown",
   "metadata": {
    "collapsed": false
   },
   "source": [
    "``` python\n",
    "def zoom(self,xmin,xmax,xlen,ymin,ymax,ylen):\n",
    "\n",
    "        self.xmin = xmin\n",
    "        self.xmax = xmax\n",
    "        self.xlen = xlen\n",
    "        self.ymin = ymin\n",
    "        self.ymax = ymax\n",
    "        self.ylen = ylen\n",
    "        \n",
    "        self.plane = self.__create_plane(self.xmin, self.xmax, self.xlen, self.ymin, self.ymax, self.ylen)\n",
    "        #applies the transformations in fs in order\n",
    "        for f in self.fs:\n",
    "            self.apply(f)\n",
    "            \n",
    "        return self.plane \n",
    "```"
   ]
  },
  {
   "cell_type": "markdown",
   "metadata": {
    "collapsed": false
   },
   "source": [
    "### Testing the Modules\n",
    "\n",
    "The test_cplane_np.py file was created in order to test for success of the cplane.py file."
   ]
  }
 ],
 "metadata": {
  "kernelspec": {
   "display_name": "Python 3 (Anaconda)",
   "language": "python",
   "name": "anaconda3"
  },
  "language_info": {
   "codemirror_mode": {
    "name": "ipython",
    "version": 3
   },
   "file_extension": ".py",
   "mimetype": "text/x-python",
   "name": "python",
   "nbconvert_exporter": "python",
   "pygments_lexer": "ipython3",
   "version": "3.5.4"
  }
 },
 "nbformat": 4,
 "nbformat_minor": 0
}